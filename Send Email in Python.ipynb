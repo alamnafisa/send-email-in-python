{
 "cells": [
  {
   "cell_type": "code",
   "execution_count": null,
   "metadata": {},
   "outputs": [],
   "source": [
    "import email\n",
    "import smtplib\n",
    "\n",
    "sender_ID= 'alam_nafisa@hotmail.com'\n",
    "\n",
    "receiver_ID= 'sajjadalam6@hotmail.com'\n",
    "\n",
    "subject= 'This is a test from Jupyter'\n",
    "\n",
    "msg = email.message_from_string('hello this is nafisa')\n",
    "\n",
    "print (type (msg))\n",
    "username = 'alam_nafisa@hotmail.com'\n",
    "\n",
    "password = 'Welc0me!5'\n",
    "\n",
    "server = smtplib.SMTP('smtp-mail.outlook.com',587)\n",
    "server.starttls()\n",
    "server.login(username,password)\n",
    "server.sendmail(sender_ID, receiver_ID,msg.as_string())\n",
    "server.quit()\n"
   ]
  },
  {
   "cell_type": "code",
   "execution_count": null,
   "metadata": {},
   "outputs": [],
   "source": [
    " "
   ]
  }
 ],
 "metadata": {
  "kernelspec": {
   "display_name": "Python 3",
   "language": "python",
   "name": "python3"
  },
  "language_info": {
   "codemirror_mode": {
    "name": "ipython",
    "version": 3
   },
   "file_extension": ".py",
   "mimetype": "text/x-python",
   "name": "python",
   "nbconvert_exporter": "python",
   "pygments_lexer": "ipython3",
   "version": "3.8.5"
  }
 },
 "nbformat": 4,
 "nbformat_minor": 4
}
